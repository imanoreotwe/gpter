{
 "cells": [
  {
   "cell_type": "code",
   "execution_count": 1,
   "id": "01cb4125-fd67-4705-8180-f5f013dcb939",
   "metadata": {},
   "outputs": [],
   "source": [
    "# start here\n",
    "text = open('wiki_all.txt', 'r').read()"
   ]
  },
  {
   "cell_type": "code",
   "execution_count": 2,
   "id": "fc7a819e-0dbe-44d9-ba63-d38c6e7b2fa3",
   "metadata": {},
   "outputs": [],
   "source": [
    "# Hyperparameters\n",
    "batch_size = 32 # how many independent sequences we will process in parallel \n",
    "block_size = 8 # what is the maximum context length for predictions?\n",
    "eval_iters = 10\n",
    "eval_interval = 300\n",
    "learning_rate = 3e-4\n",
    "max_iters = 3000"
   ]
  },
  {
   "cell_type": "code",
   "execution_count": 3,
   "id": "dd6c4b7e-b2c4-4e7e-a003-7360f330e589",
   "metadata": {},
   "outputs": [],
   "source": [
    "# generate embedings\n",
    "import tiktoken\n",
    "#encoding = tiktoken.get_encoding(\"cl100k_base\")\n",
    "encoding = tiktoken.get_encoding(\"r50k_base\")\n",
    "text_encoded = encoding.encode(text)\n",
    "\n",
    "from tinygrad import Tensor, nn, dtypes, TinyJit, Context\n",
    "import numpy as np\n",
    "data = Tensor(text_encoded, dtype=dtypes.long)\n",
    "# split into training and validation\n",
    "n = int(0.9*len(data))\n",
    "train_data = data[:n]\n",
    "val_data = data[n:]\n",
    "#print(len(data))"
   ]
  },
  {
   "cell_type": "code",
   "execution_count": 14,
   "id": "d5526873-9430-423d-80f9-77b1099e7928",
   "metadata": {},
   "outputs": [],
   "source": [
    "Tensor.manual_seed(1337)\n",
    "\n",
    "def get_batch(split):\n",
    "    # generate small batch of data of inputs x and targets y\n",
    "    data = train_data if split == 'train' else val_data\n",
    "    ix = Tensor.randint((batch_size,), high=(len(data) - block_size)).numpy()\n",
    "    x = Tensor([data.numpy()[i:i+block_size] for i in ix], dtype=dtypes.long)\n",
    "    y = Tensor([data.numpy()[i+1:i+block_size+1] for i in ix], dtype=dtypes.long)\n",
    "    return x, y\n",
    "\n",
    "def get_batch_2(split):\n",
    "    data = train_data if split == 'train' else val_data\n",
    "    #rand = Tensor.randint(high=(len(data) - block_size))\n",
    "    rand = np.random.randint(0,(len(data)-block_size))\n",
    "    #rand = 1337\n",
    "\n",
    "    x = data[rand:rand+block_size*batch_size].view(batch_size, block_size)\n",
    "    y = data[rand+1:rand+block_size*batch_size+1].view(batch_size, block_size)\n",
    "\n",
    "    return x, y"
   ]
  },
  {
   "cell_type": "code",
   "execution_count": 5,
   "id": "aeade8f8-18d8-423a-865b-756697c809fd",
   "metadata": {},
   "outputs": [],
   "source": [
    "class BigramLanguageModel:\n",
    "    def __init__(self, vocab_size, embed_size):\n",
    "        self.token_embedding_table = nn.Embedding(vocab_size=vocab_size, embed_size=embed_size)\n",
    "\n",
    "    def __call__(self, idx, targets=None):\n",
    "        logits = self.token_embedding_table(idx)\n",
    "\n",
    "        if targets is None:\n",
    "            loss = None\n",
    "        else:\n",
    "            B, T, C = logits.shape\n",
    "            logits = logits.view(B*T, C)\n",
    "            targets = targets.view(B*T)\n",
    "            \n",
    "            loss = logits.cross_entropy(targets)\n",
    "            print(loss.item())\n",
    "        return logits, loss\n",
    "\n",
    "    def generate(self, idx, max_new_tokens):\n",
    "        for _ in range(max_new_tokens):\n",
    "            logits, loss = self(idx)\n",
    "            logits = logits[:, -1, :]\n",
    "            probs = logits.softmax(axis=1)\n",
    "            idx_next = probs.multinomial(num_samples=1)\n",
    "            idx = idx.cat(idx_next, dim=1)\n",
    "        return idx\n",
    "        \n",
    "m = BigramLanguageModel(encoding.n_vocab, 500) # vocab size via tiktoken"
   ]
  },
  {
   "cell_type": "code",
   "execution_count": 12,
   "id": "46d0f7f5-e668-431c-9289-7af71b83fb1b",
   "metadata": {},
   "outputs": [],
   "source": [
    "@TinyJit\n",
    "def estimate_loss():\n",
    "    out = {}\n",
    "    Tensor.no_grad, Tensor.training = True, False\n",
    "    for split in ['train', 'val']:\n",
    "        losses = Tensor.zeros(eval_iters, requires_grad=False).contiguous()\n",
    "        for k in range(eval_iters):\n",
    "            X, Y = get_batch_2(split)\n",
    "            logits, loss = m(X, Y)\n",
    "            losses[k] = loss.item()\n",
    "        out[split] = losses.mean()\n",
    "    Tensor.no_grad, Tensor.training = False, True\n",
    "    return out"
   ]
  },
  {
   "cell_type": "code",
   "execution_count": 7,
   "id": "102dc55a-b7b7-47f4-b004-6597b0f31f02",
   "metadata": {},
   "outputs": [],
   "source": [
    "# create optomizer \n",
    "optimizer = nn.optim.AdamW(nn.state.get_parameters(m), lr=learning_rate)"
   ]
  },
  {
   "cell_type": "code",
   "execution_count": 15,
   "id": "210e0a8b-cb98-4e27-938b-5185b118363a",
   "metadata": {},
   "outputs": [
    {
     "name": "stdout",
     "output_type": "stream",
     "text": [
      "2.355067253112793\n",
      "2.889179229736328\n",
      "2.5980112552642822\n",
      "2.6221630573272705\n",
      "3.082728862762451\n",
      "2.694859027862549\n",
      "2.8649260997772217\n",
      "2.767436981201172\n",
      "2.8399858474731445\n",
      "2.598045825958252\n",
      "2.7191879749298096\n",
      "4.322714805603027\n",
      "2.3058266639709473\n",
      "2.7919766902923584\n",
      "2.670599937438965\n",
      "2.524890899658203\n",
      "2.743241786956787\n",
      "2.5733513832092285\n",
      "2.7432801723480225\n",
      "3.0345325469970703\n",
      "1.6538870334625244\n",
      "step 0: train loss 2.7312, val loss 2.8430\n"
     ]
    },
    {
     "ename": "AssertionError",
     "evalue": "duplicate inputs to JIT",
     "output_type": "error",
     "traceback": [
      "\u001b[0;31m---------------------------------------------------------------------------\u001b[0m",
      "\u001b[0;31mAssertionError\u001b[0m                            Traceback (most recent call last)",
      "Cell \u001b[0;32mIn[15], line 25\u001b[0m\n\u001b[1;32m     22\u001b[0m         xb, yb \u001b[38;5;241m=\u001b[39m get_batch_2(\u001b[38;5;124m'\u001b[39m\u001b[38;5;124mtrain\u001b[39m\u001b[38;5;124m'\u001b[39m)\n\u001b[1;32m     24\u001b[0m         \u001b[38;5;66;03m# evaluate loss\u001b[39;00m\n\u001b[0;32m---> 25\u001b[0m         loss \u001b[38;5;241m=\u001b[39m \u001b[43mstep\u001b[49m\u001b[43m(\u001b[49m\u001b[43mxb\u001b[49m\u001b[43m,\u001b[49m\u001b[43m \u001b[49m\u001b[43myb\u001b[49m\u001b[43m)\u001b[49m\n\u001b[1;32m     27\u001b[0m         \u001b[38;5;66;03m#print(steps, ':', loss)\u001b[39;00m\n\u001b[1;32m     29\u001b[0m \u001b[38;5;28mprint\u001b[39m(\u001b[38;5;124m\"\u001b[39m\u001b[38;5;124mshow me the booty:\u001b[39m\u001b[38;5;124m\"\u001b[39m)\n",
      "File \u001b[0;32m~/dev/tinygrad/tinygrad/engine/jit.py:244\u001b[0m, in \u001b[0;36mTinyJit.__call__\u001b[0;34m(self, *args, **kwargs)\u001b[0m\n\u001b[1;32m    243\u001b[0m \u001b[38;5;28;01mdef\u001b[39;00m\u001b[38;5;250m \u001b[39m\u001b[38;5;21m__call__\u001b[39m(\u001b[38;5;28mself\u001b[39m, \u001b[38;5;241m*\u001b[39margs, \u001b[38;5;241m*\u001b[39m\u001b[38;5;241m*\u001b[39mkwargs) \u001b[38;5;241m-\u001b[39m\u001b[38;5;241m>\u001b[39m ReturnType:\n\u001b[0;32m--> 244\u001b[0m   input_buffers, var_vals, names, st_vars_dtype_device \u001b[38;5;241m=\u001b[39m \u001b[43m_prepare_jit_inputs\u001b[49m\u001b[43m(\u001b[49m\u001b[43margs\u001b[49m\u001b[43m,\u001b[49m\u001b[43m \u001b[49m\u001b[43mkwargs\u001b[49m\u001b[43m)\u001b[49m\n\u001b[1;32m    245\u001b[0m   \u001b[38;5;28;01mif\u001b[39;00m \u001b[38;5;129;01mnot\u001b[39;00m JIT \u001b[38;5;129;01mor\u001b[39;00m \u001b[38;5;28mself\u001b[39m\u001b[38;5;241m.\u001b[39mcnt \u001b[38;5;241m==\u001b[39m \u001b[38;5;241m0\u001b[39m:\n\u001b[1;32m    246\u001b[0m     \u001b[38;5;66;03m# jit ignore\u001b[39;00m\n\u001b[1;32m    247\u001b[0m     \u001b[38;5;28;01massert\u001b[39;00m \u001b[38;5;28mself\u001b[39m\u001b[38;5;241m.\u001b[39mfxn \u001b[38;5;129;01mis\u001b[39;00m \u001b[38;5;129;01mnot\u001b[39;00m \u001b[38;5;28;01mNone\u001b[39;00m\n",
      "File \u001b[0;32m~/dev/tinygrad/tinygrad/engine/jit.py:200\u001b[0m, in \u001b[0;36m_prepare_jit_inputs\u001b[0;34m(args, kwargs)\u001b[0m\n\u001b[1;32m    198\u001b[0m lbs: \u001b[38;5;28mlist\u001b[39m[UOp] \u001b[38;5;241m=\u001b[39m flatten([t\u001b[38;5;241m.\u001b[39mlazydata\u001b[38;5;241m.\u001b[39msrc \u001b[38;5;28;01mif\u001b[39;00m t\u001b[38;5;241m.\u001b[39mlazydata\u001b[38;5;241m.\u001b[39mop \u001b[38;5;129;01mis\u001b[39;00m Ops\u001b[38;5;241m.\u001b[39mMULTI \u001b[38;5;28;01melse\u001b[39;00m [t\u001b[38;5;241m.\u001b[39mlazydata] \u001b[38;5;28;01mfor\u001b[39;00m t \u001b[38;5;129;01min\u001b[39;00m tensors])\n\u001b[1;32m    199\u001b[0m input_buffers: \u001b[38;5;28mlist\u001b[39m[Buffer] \u001b[38;5;241m=\u001b[39m [lb\u001b[38;5;241m.\u001b[39mbase\u001b[38;5;241m.\u001b[39mrealized \u001b[38;5;28;01mfor\u001b[39;00m lb \u001b[38;5;129;01min\u001b[39;00m lbs \u001b[38;5;28;01mif\u001b[39;00m lb\u001b[38;5;241m.\u001b[39mbase\u001b[38;5;241m.\u001b[39mrealized \u001b[38;5;129;01mis\u001b[39;00m \u001b[38;5;129;01mnot\u001b[39;00m \u001b[38;5;28;01mNone\u001b[39;00m]\n\u001b[0;32m--> 200\u001b[0m \u001b[38;5;28;01massert\u001b[39;00m \u001b[38;5;28mlen\u001b[39m(\u001b[38;5;28mset\u001b[39m(input_buffers)) \u001b[38;5;241m==\u001b[39m \u001b[38;5;28mlen\u001b[39m(input_buffers), \u001b[38;5;124m\"\u001b[39m\u001b[38;5;124mduplicate inputs to JIT\u001b[39m\u001b[38;5;124m\"\u001b[39m\n\u001b[1;32m    201\u001b[0m st_varval_dtype_device \u001b[38;5;241m=\u001b[39m [(\u001b[38;5;241m*\u001b[39munwrap(lb\u001b[38;5;241m.\u001b[39mst)\u001b[38;5;241m.\u001b[39munbind(), lb\u001b[38;5;241m.\u001b[39mdtype, lb\u001b[38;5;241m.\u001b[39mdevice) \u001b[38;5;28;01mfor\u001b[39;00m lb \u001b[38;5;129;01min\u001b[39;00m lbs]\n\u001b[1;32m    202\u001b[0m var_vals \u001b[38;5;241m=\u001b[39m merge_dicts([x[\u001b[38;5;241m1\u001b[39m] \u001b[38;5;28;01mfor\u001b[39;00m x \u001b[38;5;129;01min\u001b[39;00m st_varval_dtype_device] \u001b[38;5;241m+\u001b[39m [\u001b[38;5;28mdict\u001b[39m(v\u001b[38;5;241m.\u001b[39munbind() \u001b[38;5;28;01mfor\u001b[39;00m v \u001b[38;5;129;01min\u001b[39;00m (args \u001b[38;5;241m+\u001b[39m \u001b[38;5;28mtuple\u001b[39m(kwargs\u001b[38;5;241m.\u001b[39mvalues())) \u001b[38;5;28;01mif\u001b[39;00m \u001b[38;5;28misinstance\u001b[39m(v, UOp))])\n",
      "\u001b[0;31mAssertionError\u001b[0m: duplicate inputs to JIT"
     ]
    }
   ],
   "source": [
    "# training\n",
    "import time\n",
    "\n",
    "@TinyJit\n",
    "def step(xb, yb):\n",
    "    logits, loss = m(xb, yb)\n",
    "    optimizer.zero_grad()\n",
    "    loss.backward()\n",
    "    optimizer.step()\n",
    "    return loss.item()\n",
    "    \n",
    "with Tensor.train():\n",
    "    for steps in range(max_iters):\n",
    "        if steps % eval_interval == 0:\n",
    "            t0 = time.time()\n",
    "            losses = estimate_loss()\n",
    "            t1 = time.time()\n",
    "            print(t1-t0)\n",
    "            print(f\"step {steps}: train loss {losses['train'].item():.4f}, val loss {losses['val'].item():.4f}\")\n",
    "        \n",
    "        # sample data\n",
    "        xb, yb = get_batch_2('train')\n",
    "    \n",
    "        # evaluate loss\n",
    "        loss = step(xb, yb)\n",
    "    \n",
    "        #print(steps, ':', loss)\n",
    "        \n",
    "print(\"show me the booty:\")\n",
    "print(encoding.decode(m.generate(Tensor.zeros((1,1), dtype=dtypes.long), max_new_tokens=100)[0].tolist()))"
   ]
  },
  {
   "cell_type": "code",
   "execution_count": null,
   "id": "7a0b2d82-4adf-4804-8dfa-a6143d93f4bc",
   "metadata": {},
   "outputs": [],
   "source": []
  }
 ],
 "metadata": {
  "kernelspec": {
   "display_name": "venv",
   "language": "python",
   "name": "venv"
  },
  "language_info": {
   "codemirror_mode": {
    "name": "ipython",
    "version": 3
   },
   "file_extension": ".py",
   "mimetype": "text/x-python",
   "name": "python",
   "nbconvert_exporter": "python",
   "pygments_lexer": "ipython3",
   "version": "3.12.7"
  }
 },
 "nbformat": 4,
 "nbformat_minor": 5
}
